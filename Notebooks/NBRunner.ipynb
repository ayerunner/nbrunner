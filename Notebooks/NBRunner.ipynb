{
  "nbformat": 4,
  "nbformat_minor": 0,
  "metadata": {
    "colab": {
      "name": "NBRunner.ipynb",
      "provenance": [],
      "collapsed_sections": [
        "KXp_YNUl2A86"
      ]
    },
    "kernelspec": {
      "name": "python3",
      "display_name": "Python 3"
    },
    "language_info": {
      "name": "python"
    }
  },
  "cells": [
    {
      "cell_type": "markdown",
      "metadata": {
        "id": "S-kpw75D9o2R"
      },
      "source": [
        "# __<font color=\"orange\">NB</font><font color=\"green\">Runner</font>__™ by [<font color=\"red\">*Aye</font><font color=\"blue\">AI*</font>](https://ayeai.xyz)<small>®</small>\n",
        "<small>(C) Copyright 2021 Abhishek Choudhary<br>\n",
        "<font color=\"red\">*Aye</font><font color=\"blue\">SPL*</font> license. No Warranty No Liability.<br>\n",
        "See LEGAL section <br>\n",
        "[<font color=\"black\">Explore **courses** by <font color=\"red\">*Aye</font><font color=\"blue\">AI*</font>](https://colab.research.google.com/github/ayerunner/nbrunner/blob/master/Notebooks/NBRunner.ipynb#scrollTo=bqeJxmhAmR8V&line=1&uniqifier=1)<br>\n",
        "[<font color=\"black\">Support **#tech4good** projects by <font color=\"red\">*Aye</font><font color=\"blue\">AI*</font>](https://colab.research.google.com/github/ayerunner/nbrunner/blob/master/Notebooks/NBRunner.ipynb#scrollTo=D_PAB8uClYw9&line=3&uniqifier=1)</small>"
      ]
    },
    {
      "cell_type": "markdown",
      "metadata": {
        "id": "KXp_YNUl2A86"
      },
      "source": [
        "### **NBRunner** by <font color=\"red\">*Aye</font><font color=\"blue\">AI*</font> is a notebook utility that helps you generate buttons to launch notebooks stored in git repositories. There are additional options to generate QR code launchers and social share buttons."
      ]
    },
    {
      "cell_type": "markdown",
      "metadata": {
        "id": "o6prC8b48olp"
      },
      "source": [
        "#### LEGAL\n",
        "<small>(C) Copyright 2021 Abhishek Choudhary<br>\n",
        "AyeSPL license. No Warranty No Liability<br>\n",
        "™ NBRunner is a trademark of Abhishek Choudhary<br>\n",
        "® AyeAI is a registered trademark of Abhishek Choudhary <br>\n",
        "All trademarks are acknowledged as belonging to their respective owners.<br>\n",
        "These utilities and exercises are shared for academic purposes only. Do __NOT__ share any private data in these utilities. For detailed TnC please visit [TnC on AyeAI site](https://ayeai.xyz/site/terms-conditions/)\n",
        "</small>"
      ]
    },
    {
      "cell_type": "markdown",
      "metadata": {
        "id": "6XQ5yxzx85Mh"
      },
      "source": [
        "## Generate launch code"
      ]
    },
    {
      "cell_type": "code",
      "metadata": {
        "colab": {
          "base_uri": "https://localhost:8080/",
          "height": 670
        },
        "id": "hUTl-bvZoQz-",
        "cellView": "form",
        "outputId": "ff9afebc-7f9d-45e5-c92d-cd857767bcb7"
      },
      "source": [
        "#@title NBRunner™ by <font color=\"red\">*Aye</font><font color=\"blue\">AI*</font>® { run: \"auto\", vertical-output: true, form-width: \"600px\" }\n",
        "from IPython.display import display\n",
        "from IPython.display import Markdown as md\n",
        "from IPython.display import HTML as html\n",
        "from IPython.display import Javascript as js\n",
        "\n",
        "legal = \"\"\"\n",
        "NBRunner™ by AyeAI®\n",
        "(C) Copyright 2021 Abhishek Choudhary\n",
        "AyeSPL license. No Warranty No Liability\n",
        "™ NBRunner is a trademark of Abhishek Choudhary\n",
        "® AyeAI is a registered trademark of Abhishek Choudhary\n",
        "All trademarks are acknowledged as belonging to their respective owners. \n",
        "\"\"\"\n",
        "print(legal)\n",
        "\n",
        "Notebook_URL = \"https://github.com/ayerunner/nbrunner/blob/master/Notebooks/NBRunner.ipynb\" #@param {type:\"string\"}\n",
        "Tested_on_Colab = True #@param {type:\"boolean\"}\n",
        "Tested_on_Binder = True #@param {type:\"boolean\"}\n",
        "Generate_QR = True #@param {type:\"boolean\"}\n",
        "Share_icons = True #@param {type:\"boolean\"}\n",
        "Display_code = False #@param {type:\"boolean\"}\n",
        "Share_message = \"Generate buttons to launch notebooks stored in git repositories\" #@param {type:\"string\"}\n",
        "\n",
        "def disp_as_code(code,weight=\"small\"):\n",
        "  if Display_code:\n",
        "    md_code = code.replace(\"<\",\"&lt;\").replace(\">\",\"&gt;\")\n",
        "    md_code = \"\"\"<small>\n",
        "              \"\"\" + md_code.replace(\"\\n\",\"<br>\") + \"\"\"\n",
        "              </small>\"\"\"\n",
        "    display(html(md_code))\n",
        "\n",
        "def title(text):\n",
        "  display(md(\"### \"+text))\n",
        "\n",
        "#https://gist.github.com/aksteps/6c59a032d2faff56596ebe3c8cfb999f#file-webshareapiurl-js\n",
        "js_link = \"\"\"// Share Url\n",
        "                shareUrl = function() {\n",
        "                    if (!navigator.share) return;\n",
        "                    navigator.share({\n",
        "                            url: \"https://mywebsite.com\",\n",
        "                            title: \"Sharing Cool things\",\n",
        "                            text: \"Checkout my really cool website.\"\n",
        "                        })\n",
        "                        .then(() => { console.log(\"Shared YEEEE!!!!!\"); })\n",
        "                        .catch((error) => { console.log(\"Sharing Failed\") });\n",
        "                }\n",
        "\"\"\"\n",
        "display(js(js_link))\n",
        "\n",
        "#https://gist.github.com/aksteps/ed8cb77341b841242f5f2ceabb0ed3b7#file-webshareapifile-js\n",
        "js_file = \"\"\"// Sharing Files\n",
        "                shareFile = function (file) {\n",
        "                    var filesArray = [file];\n",
        "                    if (!navigator.canShare || !navigator.canShare({ files: filesArray })) return;\n",
        "                    navigator.share({\n",
        "                        files: filesArray,\n",
        "                        title: 'My File',\n",
        "                        text: 'Here, Sharing my files. Keep it safe',\n",
        "                    }).then(() => console.log('Share was successful.'))\n",
        "                      .catch((error) => console.log('Sharing failed', error));\n",
        "                }\n",
        "\"\"\"\n",
        "display(js(js_file))\n",
        "\n",
        "colab_cmd_str = \"echo \" + Notebook_URL + \"\"\" |\\\n",
        "                  sed 's/%/__percent__/g' |\\\n",
        "                  awk -F'/' '{ printf \"https://colab.research.google.com/github/\";\\\n",
        "                                for(n=4;n<NF;n++)\\\n",
        "                                {\\\n",
        "                                  printf $n \"/\"\\\n",
        "                                };\\\n",
        "                                print $NF\\\n",
        "                              }' |\\\n",
        "                  sed 's/__percent__/%/g' \"\"\"\n",
        "colab_url = !{colab_cmd_str}\n",
        "colab_md = \"[![Open In Colab](https://colab.research.google.com/assets/colab-badge.svg)](\" + colab_url[0] + \")\"\n",
        "colab_html = '<a target=”_blank” href=\"' + colab_url[0] + '\"><img src=\"https://colab.research.google.com/assets/colab-badge.svg\" alt=\"Open In Colab\" style=\"height:32px; width:160px;\"></a>'\n",
        "\n",
        "binder_cmd_str = \"echo \" + Notebook_URL + \"\"\" |\\\n",
        "                  sed 's/%/__percent__/g' |\\\n",
        "                  awk -F'/' '{ printf \"https://mybinder.org/v2/gh/\" $4 \"/\" $5 \"/\" $7 \"/\";\\\n",
        "                                printf \"?filepath=\";\\\n",
        "                                for(n=8;n<NF;n++)\\\n",
        "                                {\\\n",
        "                                  printf $n \"/\"\\\n",
        "                                };\\\n",
        "                                print $NF\\\n",
        "                              }' |\\\n",
        "                  sed 's/__percent__/%/g' \"\"\"\n",
        "binder_url = !{binder_cmd_str}\n",
        "binder_md = \"[![Open In Binder](https://mybinder.org/badge_logo.svg)](\" + binder_url[0] + \")\"\n",
        "binder_html = '<a target=”_blank” href=\"' + binder_url[0] + '\"><img src=\"https://mybinder.org/badge_logo.svg\" alt=\"Open In Colab\" style=\"height:32px; width:160px;\"></a>'\n",
        "\n",
        "if Generate_QR is True:\n",
        "  colab_qr = '<a target=”_blank” href=\"' + colab_url[0] + '\"><img src=\"https://chart.googleapis.com/chart?chs=150x150&cht=qr&choe=UTF-8&chl=' + colab_url[0] + '\" alt=\"Open In Colab\"></a>'\n",
        "  binder_qr = '<a target=”_blank” href=\"' + binder_url[0] + '\"><img src=\"https://chart.googleapis.com/chart?chs=150x150&cht=qr&choe=UTF-8&chl=' + binder_url[0] + '\" alt=\"Open In Colab\"></a>'\n",
        "\n",
        "if Share_icons is True:\n",
        "  colab_share_js = '''// Share Url\n",
        "                colabShareUrl = function() {\n",
        "                    if (!navigator.share) return;\n",
        "                    navigator.share({\n",
        "                            url: \"''' + colab_url[0] +'''\",\n",
        "                            title: \"Try this Notebook\",\n",
        "                            text: \"''' + Share_message + ''' Shared using NBRunner by AyeAI\"\n",
        "                        })\n",
        "                        .then(() => { console.log(\"Shared!!!!!\"); })\n",
        "                        .catch((error) => { console.log(\"Sharing Failed\") });\n",
        "                }\n",
        "  '''\n",
        "  display(js(colab_share_js))\n",
        "  colab_fb = '<a target=”_blank” href=\"https://www.facebook.com/sharer/sharer.php?u=' + colab_url[0] + '\"><img src=\"https://upload.wikimedia.org/wikipedia/commons/8/82/Facebook_icon.jpg\" alt=\"Share on FB (Opens in Colab)\" style=\"height:23px; width:23px;\"></a>'\n",
        "  colab_tw = '<a target=”_blank” href=\"https://twitter.com/intent/tweet?text=' + Share_message + ' ' + colab_url[0] + '\" ><img src=\"https://upload.wikimedia.org/wikipedia/commons/f/f3/Twitter_icon.png\" alt=\"Share on Twitter (Opens in Colab)\" style=\"height:23px; width:23px;\"></a>'\n",
        "  colab_li = '<a target=”_blank” href=\"https://www.linkedin.com/shareArticle?mini=true&url=' + colab_url[0] + '\"><img src=\"https://upload.wikimedia.org/wikipedia/commons/thumb/e/e9/Linkedin_icon.svg/256px-Linkedin_icon.svg.png\" alt=\"Share on LinkedIn (Opens in Colab)\" style=\"height:23px; width:23px;\"></a>'\n",
        "  colab_wa = '<a target=”_blank” href=\"https://api.whatsapp.com/send?text=' + Share_message + ' ' + colab_url[0] + '\"><img src=\"https://upload.wikimedia.org/wikipedia/commons/thumb/6/6b/WhatsApp.svg/239px-WhatsApp.svg.png\" alt=\"Share on WhatsApp (Opens in Colab)\" style=\"height:23px; width:23px;\"></a>'\n",
        "  colab_tg = '<a target=”_blank” href=\"https://telegram.me/share/url?text=' + Share_message + '&url=' + colab_url[0] + '\"><img src=\"https://upload.wikimedia.org/wikipedia/commons/thumb/8/82/Telegram_logo.svg/240px-Telegram_logo.svg.png\" alt=\"Share on Telegram (Opens in Colab)\" style=\"height:23px; width:23px;\"></a>'\n",
        "  colab_share = '<img src=\"https://upload.wikimedia.org/wikipedia/commons/thumb/b/bd/Share_Icon.svg/240px-Share_Icon.svg.png\" onclick=\"colabShareUrl()\" alt=\"Share via... (Opens in Colab)\"  style=\"height:23px; width:23px;\"></img>'\n",
        "  colab_share_html = colab_fb + '\\n' +\\\n",
        "                      colab_tw + '\\n' +\\\n",
        "                      colab_li + '\\n' +\\\n",
        "                      colab_wa + '\\n' +\\\n",
        "                      colab_tg + '\\n' +\\\n",
        "                      colab_share\n",
        "  binder_share_js = '''// Share Url\n",
        "                binderShareUrl = function() {\n",
        "                    if (!navigator.share) return;\n",
        "                    navigator.share({\n",
        "                            url: \"''' + binder_url[0] +'''\",\n",
        "                            title: \"Try this Notebook\",\n",
        "                            text: \"''' + Share_message + ''' Shared using NBRunner by AyeAI\"\n",
        "                        })\n",
        "                        .then(() => { console.log(\"Shared!!!!!\"); })\n",
        "                        .catch((error) => { console.log(\"Sharing Failed\") });\n",
        "                }\n",
        "  '''\n",
        "  display(js(binder_share_js))\n",
        "  binder_fb = '<a target=”_blank” href=\"https://www.facebook.com/sharer/sharer.php?u=' + binder_url[0] + '\"><img src=\"https://upload.wikimedia.org/wikipedia/commons/8/82/Facebook_icon.jpg\" alt=\"Share on FB (Opens in binder)\" style=\"height:23px; width:23px;\"></a>'\n",
        "  binder_tw = '<a target=”_blank” href=\"https://twitter.com/intent/tweet?text=' + Share_message + ' ' + binder_url[0] + '\" ><img src=\"https://upload.wikimedia.org/wikipedia/commons/f/f3/Twitter_icon.png\" alt=\"Share on Twitter (Opens in binder)\" style=\"height:23px; width:23px;\"></a>'\n",
        "  binder_li = '<a target=”_blank” href=\"https://www.linkedin.com/shareArticle?mini=true&url=' + binder_url[0] + '\"><img src=\"https://upload.wikimedia.org/wikipedia/commons/thumb/e/e9/Linkedin_icon.svg/256px-Linkedin_icon.svg.png\" alt=\"Share on LinkedIn (Opens in binder)\" style=\"height:23px; width:23px;\"></a>'\n",
        "  binder_wa = '<a target=”_blank” href=\"https://api.whatsapp.com/send?text=' + Share_message + ' ' + binder_url[0] + '\"><img src=\"https://upload.wikimedia.org/wikipedia/commons/thumb/6/6b/WhatsApp.svg/239px-WhatsApp.svg.png\" alt=\"Share on WhatsApp (Opens in binder)\" style=\"height:23px; width:23px;\"></a>'\n",
        "  binder_tg = '<a target=”_blank” href=\"https://telegram.me/share/url?text=' + Share_message + '&url=' + binder_url[0] + '\"><img src=\"https://upload.wikimedia.org/wikipedia/commons/thumb/8/82/Telegram_logo.svg/240px-Telegram_logo.svg.png\" alt=\"Share on Telegram (Opens in binder)\" style=\"height:23px; width:23px;\"></a>'\n",
        "  binder_share = '<img src=\"https://upload.wikimedia.org/wikipedia/commons/thumb/b/bd/Share_Icon.svg/240px-Share_Icon.svg.png\" onclick=\"binderShareUrl()\" alt=\"Share via... (Opens in binder)\"  style=\"height:23px; width:23px;\"></img>'\n",
        "  binder_share_html = binder_fb + '\\n' +\\\n",
        "                      binder_tw + '\\n' +\\\n",
        "                      binder_li + '\\n' +\\\n",
        "                      binder_wa + '\\n' +\\\n",
        "                      binder_tg + '\\n' +\\\n",
        "                      binder_share\n",
        "\n",
        "if Display_code is False:\n",
        "  if Tested_on_Colab:\n",
        "    title(\"Run this notebook on Colab:\")\n",
        "    if Generate_QR is True:\n",
        "      display(html(colab_qr))\n",
        "    display(html(colab_html))\n",
        "    if Share_icons is True:\n",
        "      display(html(colab_share_html))\n",
        "\n",
        "  if Tested_on_Binder:\n",
        "    title(\"Run this notebook on Binder:\")\n",
        "    if Generate_QR is True:\n",
        "      display(html(binder_qr))\n",
        "    display(html(binder_html))\n",
        "    if Share_icons is True:\n",
        "      display(html(binder_share_html))\n",
        "\n",
        "else:\n",
        "  title(\"URLs:\")\n",
        "  if Tested_on_Colab:\n",
        "    disp_as_code(\"Colab URL:\\n\" + colab_url[0])\n",
        "  if Tested_on_Binder:\n",
        "    disp_as_code(\"Binder URL:\\n\" + binder_url[0])\n",
        "  print()\n",
        "\n",
        "  title(\"Markdown badges:\")\n",
        "  if Tested_on_Colab:\n",
        "    display(md(colab_md))\n",
        "    disp_as_code(colab_md)\n",
        "  if Tested_on_Binder:\n",
        "    display(md(binder_md))\n",
        "    disp_as_code(binder_md)\n",
        "  print()\n",
        "\n",
        "  title(\"HTML badges:\")\n",
        "  if Tested_on_Colab:\n",
        "    display(html(colab_html))\n",
        "    disp_as_code(colab_html)\n",
        "  if Tested_on_Binder:\n",
        "    display(html(binder_html))\n",
        "    disp_as_code(binder_html)\n",
        "  print()\n",
        "\n",
        "  if Generate_QR is True:\n",
        "    title(\"QR badges:\")\n",
        "    if Tested_on_Colab:\n",
        "      display(html(colab_qr))\n",
        "      disp_as_code(\"Scan QR to open in Colab\")\n",
        "      disp_as_code(colab_qr)\n",
        "    if Tested_on_Binder:\n",
        "      display(md(binder_qr))\n",
        "      disp_as_code(\"Scan QR to launch on Binder\")\n",
        "      disp_as_code(binder_qr)\n",
        "    print()\n",
        "\n",
        "  if Share_icons is True:\n",
        "    title(\"Sharing badges\")\n",
        "    if Tested_on_Colab:\n",
        "      disp_as_code(\"Share to open in Colab\")\n",
        "      display(html(colab_share_html))\n",
        "      disp_as_code(\"<script>\")\n",
        "      disp_as_code(colab_share_js)\n",
        "      disp_as_code(\"</script>\")\n",
        "      disp_as_code(colab_share_html)\n",
        "    if Tested_on_Binder:\n",
        "      disp_as_code(\"Share to launch on Binder\")\n",
        "      display(html(binder_share_html))\n",
        "      disp_as_code(\"<script>\")\n",
        "      disp_as_code(binder_share_js)\n",
        "      disp_as_code(\"</script>\")\n",
        "      disp_as_code(binder_share_html)\n"
      ],
      "execution_count": 10,
      "outputs": [
        {
          "output_type": "stream",
          "name": "stdout",
          "text": [
            "\n",
            "NBRunner™ by AyeAI®\n",
            "(C) Copyright 2021 Abhishek Choudhary\n",
            "AyeSPL license. No Warranty No Liability\n",
            "™ NBRunner is a trademark of Abhishek Choudhary\n",
            "® AyeAI is a registered trademark of Abhishek Choudhary\n",
            "All trademarks are acknowledged as belonging to their respective owners. \n",
            "\n"
          ]
        },
        {
          "output_type": "display_data",
          "data": {
            "application/javascript": [
              "// Share Url\n",
              "                shareUrl = function() {\n",
              "                    if (!navigator.share) return;\n",
              "                    navigator.share({\n",
              "                            url: \"https://mywebsite.com\",\n",
              "                            title: \"Sharing Cool things\",\n",
              "                            text: \"Checkout my really cool website.\"\n",
              "                        })\n",
              "                        .then(() => { console.log(\"Shared YEEEE!!!!!\"); })\n",
              "                        .catch((error) => { console.log(\"Sharing Failed\") });\n",
              "                }\n"
            ],
            "text/plain": [
              "<IPython.core.display.Javascript object>"
            ]
          },
          "metadata": {}
        },
        {
          "output_type": "display_data",
          "data": {
            "application/javascript": [
              "// Sharing Files\n",
              "                shareFile = function (file) {\n",
              "                    var filesArray = [file];\n",
              "                    if (!navigator.canShare || !navigator.canShare({ files: filesArray })) return;\n",
              "                    navigator.share({\n",
              "                        files: filesArray,\n",
              "                        title: 'My File',\n",
              "                        text: 'Here, Sharing my files. Keep it safe',\n",
              "                    }).then(() => console.log('Share was successful.'))\n",
              "                      .catch((error) => console.log('Sharing failed', error));\n",
              "                }\n"
            ],
            "text/plain": [
              "<IPython.core.display.Javascript object>"
            ]
          },
          "metadata": {}
        },
        {
          "output_type": "display_data",
          "data": {
            "application/javascript": [
              "// Share Url\n",
              "                colabShareUrl = function() {\n",
              "                    if (!navigator.share) return;\n",
              "                    navigator.share({\n",
              "                            url: \"https://colab.research.google.com/github/ayerunner/nbrunner/blob/master/Notebooks/NBRunner.ipynb\",\n",
              "                            title: \"Try this Notebook\",\n",
              "                            text: \"Generate buttons to launch notebooks stored in git repositories Shared using NBRunner by AyeAI\"\n",
              "                        })\n",
              "                        .then(() => { console.log(\"Shared!!!!!\"); })\n",
              "                        .catch((error) => { console.log(\"Sharing Failed\") });\n",
              "                }\n",
              "  "
            ],
            "text/plain": [
              "<IPython.core.display.Javascript object>"
            ]
          },
          "metadata": {}
        },
        {
          "output_type": "display_data",
          "data": {
            "application/javascript": [
              "// Share Url\n",
              "                binderShareUrl = function() {\n",
              "                    if (!navigator.share) return;\n",
              "                    navigator.share({\n",
              "                            url: \"https://mybinder.org/v2/gh/ayerunner/nbrunner/master/?filepath=Notebooks/NBRunner.ipynb\",\n",
              "                            title: \"Try this Notebook\",\n",
              "                            text: \"Generate buttons to launch notebooks stored in git repositories Shared using NBRunner by AyeAI\"\n",
              "                        })\n",
              "                        .then(() => { console.log(\"Shared!!!!!\"); })\n",
              "                        .catch((error) => { console.log(\"Sharing Failed\") });\n",
              "                }\n",
              "  "
            ],
            "text/plain": [
              "<IPython.core.display.Javascript object>"
            ]
          },
          "metadata": {}
        },
        {
          "output_type": "display_data",
          "data": {
            "text/markdown": "### Run this notebook on Colab:",
            "text/plain": [
              "<IPython.core.display.Markdown object>"
            ]
          },
          "metadata": {}
        },
        {
          "output_type": "display_data",
          "data": {
            "text/html": [
              "<a target=”_blank” href=\"https://colab.research.google.com/github/ayerunner/nbrunner/blob/master/Notebooks/NBRunner.ipynb\"><img src=\"https://chart.googleapis.com/chart?chs=150x150&cht=qr&choe=UTF-8&chl=https://colab.research.google.com/github/ayerunner/nbrunner/blob/master/Notebooks/NBRunner.ipynb\" alt=\"Open In Colab\"></a>"
            ],
            "text/plain": [
              "<IPython.core.display.HTML object>"
            ]
          },
          "metadata": {}
        },
        {
          "output_type": "display_data",
          "data": {
            "text/html": [
              "<a target=”_blank” href=\"https://colab.research.google.com/github/ayerunner/nbrunner/blob/master/Notebooks/NBRunner.ipynb\"><img src=\"https://colab.research.google.com/assets/colab-badge.svg\" alt=\"Open In Colab\" style=\"height:32px; width:160px;\"></a>"
            ],
            "text/plain": [
              "<IPython.core.display.HTML object>"
            ]
          },
          "metadata": {}
        },
        {
          "output_type": "display_data",
          "data": {
            "text/html": [
              "<a target=”_blank” href=\"https://www.facebook.com/sharer/sharer.php?u=https://colab.research.google.com/github/ayerunner/nbrunner/blob/master/Notebooks/NBRunner.ipynb\"><img src=\"https://upload.wikimedia.org/wikipedia/commons/8/82/Facebook_icon.jpg\" alt=\"Share on FB (Opens in Colab)\" style=\"height:23px; width:23px;\"></a>\n",
              "<a target=”_blank” href=\"https://twitter.com/intent/tweet?text=Generate buttons to launch notebooks stored in git repositories https://colab.research.google.com/github/ayerunner/nbrunner/blob/master/Notebooks/NBRunner.ipynb\" ><img src=\"https://upload.wikimedia.org/wikipedia/commons/f/f3/Twitter_icon.png\" alt=\"Share on Twitter (Opens in Colab)\" style=\"height:23px; width:23px;\"></a>\n",
              "<a target=”_blank” href=\"https://www.linkedin.com/shareArticle?mini=true&url=https://colab.research.google.com/github/ayerunner/nbrunner/blob/master/Notebooks/NBRunner.ipynb\"><img src=\"https://upload.wikimedia.org/wikipedia/commons/thumb/e/e9/Linkedin_icon.svg/256px-Linkedin_icon.svg.png\" alt=\"Share on LinkedIn (Opens in Colab)\" style=\"height:23px; width:23px;\"></a>\n",
              "<a target=”_blank” href=\"https://api.whatsapp.com/send?text=Generate buttons to launch notebooks stored in git repositories https://colab.research.google.com/github/ayerunner/nbrunner/blob/master/Notebooks/NBRunner.ipynb\"><img src=\"https://upload.wikimedia.org/wikipedia/commons/thumb/6/6b/WhatsApp.svg/239px-WhatsApp.svg.png\" alt=\"Share on WhatsApp (Opens in Colab)\" style=\"height:23px; width:23px;\"></a>\n",
              "<a target=”_blank” href=\"https://telegram.me/share/url?text=Generate buttons to launch notebooks stored in git repositories&url=https://colab.research.google.com/github/ayerunner/nbrunner/blob/master/Notebooks/NBRunner.ipynb\"><img src=\"https://upload.wikimedia.org/wikipedia/commons/thumb/8/82/Telegram_logo.svg/240px-Telegram_logo.svg.png\" alt=\"Share on Telegram (Opens in Colab)\" style=\"height:23px; width:23px;\"></a>\n",
              "<img src=\"https://upload.wikimedia.org/wikipedia/commons/thumb/b/bd/Share_Icon.svg/240px-Share_Icon.svg.png\" onclick=\"colabShareUrl()\" alt=\"Share via... (Opens in Colab)\"  style=\"height:23px; width:23px;\"></img>"
            ],
            "text/plain": [
              "<IPython.core.display.HTML object>"
            ]
          },
          "metadata": {}
        },
        {
          "output_type": "display_data",
          "data": {
            "text/markdown": "### Run this notebook on Binder:",
            "text/plain": [
              "<IPython.core.display.Markdown object>"
            ]
          },
          "metadata": {}
        },
        {
          "output_type": "display_data",
          "data": {
            "text/html": [
              "<a target=”_blank” href=\"https://mybinder.org/v2/gh/ayerunner/nbrunner/master/?filepath=Notebooks/NBRunner.ipynb\"><img src=\"https://chart.googleapis.com/chart?chs=150x150&cht=qr&choe=UTF-8&chl=https://mybinder.org/v2/gh/ayerunner/nbrunner/master/?filepath=Notebooks/NBRunner.ipynb\" alt=\"Open In Colab\"></a>"
            ],
            "text/plain": [
              "<IPython.core.display.HTML object>"
            ]
          },
          "metadata": {}
        },
        {
          "output_type": "display_data",
          "data": {
            "text/html": [
              "<a target=”_blank” href=\"https://mybinder.org/v2/gh/ayerunner/nbrunner/master/?filepath=Notebooks/NBRunner.ipynb\"><img src=\"https://mybinder.org/badge_logo.svg\" alt=\"Open In Colab\" style=\"height:32px; width:160px;\"></a>"
            ],
            "text/plain": [
              "<IPython.core.display.HTML object>"
            ]
          },
          "metadata": {}
        },
        {
          "output_type": "display_data",
          "data": {
            "text/html": [
              "<a target=”_blank” href=\"https://www.facebook.com/sharer/sharer.php?u=https://mybinder.org/v2/gh/ayerunner/nbrunner/master/?filepath=Notebooks/NBRunner.ipynb\"><img src=\"https://upload.wikimedia.org/wikipedia/commons/8/82/Facebook_icon.jpg\" alt=\"Share on FB (Opens in binder)\" style=\"height:23px; width:23px;\"></a>\n",
              "<a target=”_blank” href=\"https://twitter.com/intent/tweet?text=Generate buttons to launch notebooks stored in git repositories https://mybinder.org/v2/gh/ayerunner/nbrunner/master/?filepath=Notebooks/NBRunner.ipynb\" ><img src=\"https://upload.wikimedia.org/wikipedia/commons/f/f3/Twitter_icon.png\" alt=\"Share on Twitter (Opens in binder)\" style=\"height:23px; width:23px;\"></a>\n",
              "<a target=”_blank” href=\"https://www.linkedin.com/shareArticle?mini=true&url=https://mybinder.org/v2/gh/ayerunner/nbrunner/master/?filepath=Notebooks/NBRunner.ipynb\"><img src=\"https://upload.wikimedia.org/wikipedia/commons/thumb/e/e9/Linkedin_icon.svg/256px-Linkedin_icon.svg.png\" alt=\"Share on LinkedIn (Opens in binder)\" style=\"height:23px; width:23px;\"></a>\n",
              "<a target=”_blank” href=\"https://api.whatsapp.com/send?text=Generate buttons to launch notebooks stored in git repositories https://mybinder.org/v2/gh/ayerunner/nbrunner/master/?filepath=Notebooks/NBRunner.ipynb\"><img src=\"https://upload.wikimedia.org/wikipedia/commons/thumb/6/6b/WhatsApp.svg/239px-WhatsApp.svg.png\" alt=\"Share on WhatsApp (Opens in binder)\" style=\"height:23px; width:23px;\"></a>\n",
              "<a target=”_blank” href=\"https://telegram.me/share/url?text=Generate buttons to launch notebooks stored in git repositories&url=https://mybinder.org/v2/gh/ayerunner/nbrunner/master/?filepath=Notebooks/NBRunner.ipynb\"><img src=\"https://upload.wikimedia.org/wikipedia/commons/thumb/8/82/Telegram_logo.svg/240px-Telegram_logo.svg.png\" alt=\"Share on Telegram (Opens in binder)\" style=\"height:23px; width:23px;\"></a>\n",
              "<img src=\"https://upload.wikimedia.org/wikipedia/commons/thumb/b/bd/Share_Icon.svg/240px-Share_Icon.svg.png\" onclick=\"binderShareUrl()\" alt=\"Share via... (Opens in binder)\"  style=\"height:23px; width:23px;\"></img>"
            ],
            "text/plain": [
              "<IPython.core.display.HTML object>"
            ]
          },
          "metadata": {}
        }
      ]
    },
    {
      "cell_type": "markdown",
      "metadata": {
        "id": "bqeJxmhAmR8V"
      },
      "source": [
        " # Explore <font color=\"red\">*Aye</font><font color=\"blue\">AI*</font> __courses__"
      ]
    },
    {
      "cell_type": "code",
      "metadata": {
        "cellView": "form",
        "id": "yMwIiKt6mNMh",
        "outputId": "db33cad2-8685-4d56-a1f3-ebf8d4beaa34",
        "colab": {
          "base_uri": "https://localhost:8080/",
          "height": 0
        }
      },
      "source": [
        "#@title Explore AyeAI courses { vertical-output: true }\n",
        "%%html\n",
        "<iframe src=\"https://ayeai.xyz/site/courses-3/\" width=\"100%\" height=\"600\"></iframe>"
      ],
      "execution_count": 11,
      "outputs": [
        {
          "output_type": "display_data",
          "data": {
            "text/html": [
              "<iframe src=\"https://ayeai.xyz/site/courses-3/\" width=\"100%\" height=\"600\"></iframe>"
            ],
            "text/plain": [
              "<IPython.core.display.HTML object>"
            ]
          },
          "metadata": {}
        }
      ]
    },
    {
      "cell_type": "markdown",
      "metadata": {
        "id": "D_PAB8uClYw9"
      },
      "source": [
        "# __Tech4Good__ initiaves by <font color=\"red\">*Aye</font><font color=\"blue\">AI*</font>\n",
        "\n",
        "At <font color=\"red\">*Aye</font><font color=\"blue\">AI*</font> we strive to ensure that the #technologicalSingularity or simply the #singularity is inclusive and sustainable.\n",
        "\n",
        "Would you like to support our #tech4good initiatives with the potential to make a positive"
      ]
    },
    {
      "cell_type": "markdown",
      "metadata": {
        "id": "HB_LbPqRVMY-"
      },
      "source": [
        "## Support Project VIKRAM\n",
        "An inclusive rural digitalization platform\n",
        "inspired by the principles of GramSheel"
      ]
    },
    {
      "cell_type": "code",
      "metadata": {
        "id": "TB13tdzuVcXI",
        "colab": {
          "base_uri": "https://localhost:8080/",
          "height": 0
        },
        "cellView": "form",
        "outputId": "e3350f73-0f37-4d0e-d796-cf5f8c356f67"
      },
      "source": [
        "#@title Project VIKRAM site { vertical-output: true }\n",
        "%%html\n",
        "<iframe src=\"https://projectvikram.github.io/\" width=\"100%\" height=\"600\"></iframe>"
      ],
      "execution_count": 12,
      "outputs": [
        {
          "output_type": "display_data",
          "data": {
            "text/html": [
              "<iframe src=\"https://projectvikram.github.io/\" width=\"100%\" height=\"600\"></iframe>"
            ],
            "text/plain": [
              "<IPython.core.display.HTML object>"
            ]
          },
          "metadata": {}
        }
      ]
    },
    {
      "cell_type": "markdown",
      "metadata": {
        "id": "qZ743S4DWKm8"
      },
      "source": [
        "## Support Project Hindawi\n",
        "Hindawi is an open-source, complete non-English based systems programming platform supporting all paradigms of programming languages from assembly language to logic and functional programming, which effectively shatters the language barrier allowing non English literates to take up computer sciences and revolution at all levels of technology, from primary school education to robotics and super-computing in their mother tongue, without the need to master English."
      ]
    },
    {
      "cell_type": "code",
      "metadata": {
        "cellView": "form",
        "id": "oehkPRuhWZcN",
        "colab": {
          "base_uri": "https://localhost:8080/",
          "height": 0
        },
        "outputId": "76838aaf-54dc-4089-fe72-7448463785ab"
      },
      "source": [
        "#@title Project Hindawi site { vertical-output: true }\n",
        "%%html\n",
        "<iframe src=\"https://hindawiai.github.io/\" width=\"100%\" height=\"600\"></iframe>"
      ],
      "execution_count": 13,
      "outputs": [
        {
          "output_type": "display_data",
          "data": {
            "text/html": [
              "<iframe src=\"https://hindawiai.github.io/\" width=\"100%\" height=\"600\"></iframe>"
            ],
            "text/plain": [
              "<IPython.core.display.HTML object>"
            ]
          },
          "metadata": {}
        }
      ]
    },
    {
      "cell_type": "markdown",
      "metadata": {
        "id": "5JuS2CaxWyz2"
      },
      "source": [
        "## Support Project TWISHA\n",
        "The Women in Self Health Awareness"
      ]
    },
    {
      "cell_type": "code",
      "metadata": {
        "cellView": "form",
        "id": "5LBeFw5SXBma",
        "colab": {
          "base_uri": "https://localhost:8080/",
          "height": 0
        },
        "outputId": "7e2e58c0-4354-4474-98bc-5a4d6f46c0f7"
      },
      "source": [
        "#@title Project TWISHA site { vertical-output: true }\n",
        "%%html\n",
        "<iframe src=\"https://gsftwisha.github.io/\" width=\"100%\" height=\"600\"></iframe>"
      ],
      "execution_count": 14,
      "outputs": [
        {
          "output_type": "display_data",
          "data": {
            "text/html": [
              "<iframe src=\"https://gsftwisha.github.io/\" width=\"100%\" height=\"600\"></iframe>"
            ],
            "text/plain": [
              "<IPython.core.display.HTML object>"
            ]
          },
          "metadata": {}
        }
      ]
    }
  ]
}